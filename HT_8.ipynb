{
  "cells": [
    {
      "cell_type": "code",
      "execution_count": null,
      "metadata": {
        "trusted": true
      },
      "outputs": [],
      "source": [
        "import numpy as np\n",
        "import pandas as pd\n",
        "from matplotlib import pyplot as plt"
      ]
    },
    {
      "cell_type": "markdown",
      "metadata": {},
      "source": [
        "Задача 1\n",
        "Даны значения величины заработной платы заемщиков банка (salary) и значения их поведенческого кредитного скоринга (scoring):\n",
        "salary = [35, 45, 190, 200, 40, 70, 54, 150, 120, 110]\n",
        "scoring = [401, 574, 874, 919, 459, 739, 653, 902, 746, 832]\n",
        "1)Найдите ковариацию этих двух величин: сначала без использования специальных функций, а затем с помощью функции numpy.cov. Полученные значения должны быть равны.\n",
        "2)Найдите коэффициент корреляции Пирсона: с помощью ковариации и средних квадратических отклонений двух признаков, а затем с помощью специальных функций из библиотек numpy и pandas."
      ]
    },
    {
      "cell_type": "code",
      "execution_count": null,
      "metadata": {
        "trusted": true
      },
      "outputs": [],
      "source": [
        "salary  = [35, 45, 190, 200, 40, 70, 54, 150, 120, 110]\n",
        "df = pd.DataFrame(salary)\n",
        "df['salary'] = pd.DataFrame(salary)\n",
        "X = df['salary']\n",
        "\n",
        "scoring = [401, 574, 874, 919, 459, 739, 653, 902, 746, 83]\n",
        "df = pd.DataFrame(scoring)\n",
        "df['scoring'] = pd.DataFrame(scoring)\n",
        "Y = df['scoring']\n",
        "\n",
        "\n",
        "MX = X.mean()\n",
        "MY = Y.mean()\n",
        "\n",
        "#cov = ((X - MX) * (Y - MY)).mean()# с двумя этими формулами получается 8513.7\n",
        "#cov = (X * Y).mean() - MX * MY\n",
        "\n",
        "cov1 = ((X - MX) * (Y - MY)).sum() / (X.shape[0] - 1)\n",
        "cov1"
      ]
    },
    {
      "cell_type": "code",
      "execution_count": null,
      "metadata": {
        "trusted": true
      },
      "outputs": [],
      "source": [
        "9459.666666666668"
      ]
    },
    {
      "cell_type": "code",
      "execution_count": null,
      "metadata": {
        "trusted": true
      },
      "outputs": [],
      "source": [
        "X.var()"
      ]
    },
    {
      "cell_type": "code",
      "execution_count": null,
      "metadata": {},
      "outputs": [],
      "source": [
        "3882.9333333333334"
      ]
    },
    {
      "cell_type": "code",
      "execution_count": null,
      "metadata": {
        "trusted": true
      },
      "outputs": [],
      "source": [
        "Y.var()"
      ]
    },
    {
      "cell_type": "code",
      "execution_count": null,
      "metadata": {},
      "outputs": [],
      "source": [
        "69631.55555555556"
      ]
    },
    {
      "cell_type": "code",
      "execution_count": null,
      "metadata": {
        "trusted": true
      },
      "outputs": [],
      "source": [
        "cov2 = np.cov(X, Y)\n",
        "cov2"
      ]
    },
    {
      "cell_type": "code",
      "execution_count": null,
      "metadata": {},
      "outputs": [],
      "source": [
        "array([[ 3882.93333333,  9459.66666667],\n",
        "       [ 9459.66666667, 69631.55555556]])\n"
      ]
    },
    {
      "cell_type": "markdown",
      "metadata": {},
      "source": [
        "2 пункт:"
      ]
    },
    {
      "cell_type": "code",
      "execution_count": null,
      "metadata": {
        "trusted": true
      },
      "outputs": [],
      "source": [
        "corr = cov1 / (X.std() * Y.std())\n",
        "corr"
      ]
    },
    {
      "cell_type": "code",
      "execution_count": null,
      "metadata": {},
      "outputs": [],
      "source": [
        "0.575297938183201"
      ]
    },
    {
      "cell_type": "code",
      "execution_count": null,
      "metadata": {
        "trusted": true
      },
      "outputs": [],
      "source": [
        "df['salary'] = pd.DataFrame(salary)\n",
        "df['scoring'] = pd.DataFrame(scoring)\n",
        "\n",
        "df[['salary', 'scoring']].corr()"
      ]
    },
    {
      "cell_type": "raw",
      "metadata": {},
      "source": [
        "          salary     scoring\n",
        "salary \t1.000000 \t0.575298\n",
        "scoring 0.575298 \t1.000000"
      ]
    },
    {
      "cell_type": "code",
      "execution_count": null,
      "metadata": {
        "trusted": true
      },
      "outputs": [],
      "source": [
        "np.corrcoef(X, Y)"
      ]
    },
    {
      "cell_type": "markdown",
      "metadata": {},
      "source": [
        "array([[1, 0.57529794],\n",
        "       [0.57529794, 1]])"
      ]
    },
    {
      "cell_type": "markdown",
      "metadata": {},
      "source": [
        "Задача 2\n",
        "Измерены значения IQ выборки студентов, обучающихся в местных технических вузах:\n",
        "131, 125, 115, 122, 131, 115, 107, 99, 125, 111\n",
        "Известно, что в генеральной совокупности IQ распределен нормально. Найдите доверительный интервал для математического ожидания с надежностью 0.95."
      ]
    },
    {
      "cell_type": "code",
      "execution_count": null,
      "metadata": {
        "trusted": true
      },
      "outputs": [],
      "source": [
        "samples = np.array([131, 125, 115, 122, 131, 115, 107, 99, 125, 111])\n",
        "\n",
        "n = samples.shape[0]\n",
        "m = samples.mean()\n",
        "s = samples.std(ddof=1)\n",
        "print(f'n = {n},среднее = {m}, оценка среднего квадратического отклонения  = {s}')"
      ]
    },
    {
      "cell_type": "markdown",
      "metadata": {},
      "source": [
        "n = 10,среднее = 118.1, оценка среднего квадратического отклонения  = 10.54566788359614"
      ]
    },
    {
      "cell_type": "markdown",
      "metadata": {},
      "source": [
        "y=0.95, k=n-1=9 по таблице Стьюдента находим ty"
      ]
    },
    {
      "cell_type": "code",
      "execution_count": null,
      "metadata": {
        "trusted": true
      },
      "outputs": [],
      "source": [
        "t = 2.31"
      ]
    },
    {
      "cell_type": "markdown",
      "metadata": {},
      "source": [
        "Доверительный интервал равен:"
      ]
    },
    {
      "cell_type": "code",
      "execution_count": null,
      "metadata": {
        "trusted": true
      },
      "outputs": [],
      "source": [
        "(m - t * s / np.sqrt(n), m + t * s / np.sqrt(n))"
      ]
    },
    {
      "cell_type": "code",
      "execution_count": null,
      "metadata": {},
      "outputs": [],
      "source": [
        "(110.39653577927436, 125.80346422072563)"
      ]
    },
    {
      "cell_type": "markdown",
      "metadata": {},
      "source": [
        "Доверительный интервал:\n",
        "107,26<a<128,94"
      ]
    },
    {
      "cell_type": "markdown",
      "metadata": {},
      "source": [
        "Задача 3"
      ]
    },
    {
      "cell_type": "markdown",
      "metadata": {},
      "source": [
        "Известно, что рост футболистов в сборной распределен нормально\n",
        "с дисперсией генеральной совокупности, равной 25 кв.см. Объем выборки равен 27,\n",
        "среднее выборочное составляет 174.2. Найдите доверительный интервал для математического\n",
        "ожидания с надежностью 0.95."
      ]
    },
    {
      "cell_type": "code",
      "execution_count": null,
      "metadata": {},
      "outputs": [],
      "source": [
        "O^2=25 O=5, n = 27, m = 174.2; y=0.95\n",
        "y=0.95, k=n-1=26"
      ]
    },
    {
      "cell_type": "code",
      "execution_count": null,
      "metadata": {},
      "outputs": [],
      "source": [
        "По таблице стьюдента находим ty"
      ]
    },
    {
      "cell_type": "code",
      "execution_count": null,
      "metadata": {},
      "outputs": [],
      "source": [
        "t=2.0555"
      ]
    },
    {
      "cell_type": "code",
      "execution_count": null,
      "metadata": {
        "trusted": true
      },
      "outputs": [],
      "source": [
        "n = 27\n",
        "m = 174.2\n",
        "s = 5\n",
        "print(m - t * s / np.sqrt(n), m + t * s / np.sqrt(n))"
      ]
    },
    {
      "cell_type": "code",
      "execution_count": null,
      "metadata": {},
      "outputs": [],
      "source": [
        "172.2220942028012 176.17790579719878"
      ]
    },
    {
      "cell_type": "code",
      "execution_count": null,
      "metadata": {},
      "outputs": [],
      "source": [
        "Доверительный интервал:\n",
        "174.22<a<176.18"
      ]
    }
  ],
  "metadata": {
    "kernelspec": {
      "display_name": "Python 3",
      "language": "python",
      "name": "python3"
    },
    "language_info": {
      "codemirror_mode": {
        "name": "python",
        "version": 3
      },
      "file_extension": ".py",
      "mimetype": "text/x-python",
      "name": "python",
      "nbconvert_exporter": "python",
      "pygments_lexer": "ipython3",
      "version": "3.10.9 (tags/v3.10.9:1dd9be6, Dec  6 2022, 20:01:21) [MSC v.1934 64 bit (AMD64)]"
    },
    "vscode": {
      "interpreter": {
        "hash": "58dbfdb34cf82127b32c5737e6183911655ff227e5c11e8f5e4b25048ae98ef2"
      }
    }
  },
  "nbformat": 4,
  "nbformat_minor": 4
}
