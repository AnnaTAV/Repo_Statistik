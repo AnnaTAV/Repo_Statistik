{
  "metadata": {
    "language_info": {
      "codemirror_mode": {
        "name": "python",
        "version": 3
      },
      "file_extension": ".py",
      "mimetype": "text/x-python",
      "name": "python",
      "nbconvert_exporter": "python",
      "pygments_lexer": "ipython3",
      "version": "3.8"
    },
    "kernelspec": {
      "name": "python",
      "display_name": "Python (Pyodide)",
      "language": "python"
    }
  },
  "nbformat_minor": 4,
  "nbformat": 4,
  "cells": [
    {
      "cell_type": "markdown",
      "source": "1. Даны значения величины заработной платы заемщиков банка (zp) и значения их поведенческого кредитного скоринга (ks): zp = [35, 45, 190, 200, 40, 70, 54, 150, 120, 110], ks = [401, 574, 874, 919, 459, 739, 653, 902, 746, 832]. Используя математические операции, посчитать коэффициенты линейной регрессии, приняв за X заработную плату (то есть, zp - признак), а за y - значения скорингового балла (то есть, ks - целевая переменная). Произвести расчет как с использованием intercept, так и без.",
      "metadata": {}
    },
    {
      "cell_type": "markdown",
      "source": "с intercept",
      "metadata": {}
    },
    {
      "cell_type": "code",
      "source": "import numpy as np\nimport matplotlib.pyplot as plt\nzp = np.array([35, 45, 190, 200, 40, 70, 54, 150, 120, 110])\nks = np.array([401, 574, 874, 919, 459, 739, 653, 902, 746, 832])",
      "metadata": {
        "trusted": true
      },
      "execution_count": null,
      "outputs": []
    },
    {
      "cell_type": "code",
      "source": "n = len(ks)\nb1 = (np.mean(zp*ks)-np.mean(zp)*np.mean(ks))/(np.mean(zp**2) - np.mean(zp)**2)\nb1",
      "metadata": {},
      "execution_count": null,
      "outputs": []
    },
    {
      "cell_type": "raw",
      "source": "2.620538882402765",
      "metadata": {}
    },
    {
      "cell_type": "code",
      "source": "b0 = np.mean(ks)-b1*np.mean(zp)\nb0",
      "metadata": {
        "trusted": true
      },
      "execution_count": null,
      "outputs": []
    },
    {
      "cell_type": "raw",
      "source": "444.1773573243596",
      "metadata": {}
    },
    {
      "cell_type": "code",
      "source": "y_pred = b0 + b1 * zp\ny_pred",
      "metadata": {
        "trusted": true
      },
      "execution_count": null,
      "outputs": []
    },
    {
      "cell_type": "raw",
      "source": "array([535.89621821, 562.10160703, 942.07974498, 968.2851338 ,\n       548.99891262, 627.61507909, 585.68645697, 837.25818968,\n       758.64202321, 732.43663439])",
      "metadata": {}
    },
    {
      "cell_type": "code",
      "source": "plt.scatter(zp, ks)\nplt.plot(zp, y_pred)",
      "metadata": {
        "trusted": true
      },
      "execution_count": null,
      "outputs": []
    },
    {
      "cell_type": "raw",
      "source": "[<matplotlib.lines.Line2D at 0x1e25a0e4ee0>]\n",
      "metadata": {}
    },
    {
      "cell_type": "code",
      "source": "mse_ = np.sum(((b0 + b1 * zp) - ks) ** 2 / n)\nmse_",
      "metadata": {
        "trusted": true
      },
      "execution_count": null,
      "outputs": []
    },
    {
      "cell_type": "raw",
      "source": "6470.414201176659",
      "metadata": {}
    },
    {
      "cell_type": "code",
      "source": "mse_ = ((ks - y_pred)**2).sum() / n\nmse_",
      "metadata": {
        "trusted": true
      },
      "execution_count": null,
      "outputs": []
    },
    {
      "cell_type": "raw",
      "source": "6470.414201176658",
      "metadata": {}
    },
    {
      "cell_type": "markdown",
      "source": "без interсept",
      "metadata": {}
    },
    {
      "cell_type": "code",
      "source": "import numpy as np\nimport matplotlib.pyplot as plt\nzp1 = zp.reshape(1, n)\nks1 = ks.reshape(1, n)",
      "metadata": {
        "trusted": true
      },
      "execution_count": null,
      "outputs": []
    },
    {
      "cell_type": "code",
      "source": "b1 = np.dot(np.dot(np.linalg.inv(np.dot(zp1, zp1.T)), zp1), ks1.T)[0][0]\nb1",
      "metadata": {
        "trusted": true
      },
      "execution_count": null,
      "outputs": []
    },
    {
      "cell_type": "raw",
      "source": "5.889820420132689",
      "metadata": {}
    },
    {
      "cell_type": "code",
      "source": "y_pred1 = b1 * zp\ny_pred1",
      "metadata": {
        "trusted": true
      },
      "execution_count": null,
      "outputs": []
    },
    {
      "cell_type": "raw",
      "source": "array([ 206.1437147 ,  265.04191891, 1119.06587983, 1177.96408403,\n        235.59281681,  412.28742941,  318.05030269,  883.47306302,\n        706.77845042,  647.88024621])",
      "metadata": {}
    },
    {
      "cell_type": "code",
      "source": "plt.scatter(zp, ks)\nplt.plot(zp, y_pred, 'b', label = 'с intercept')\nplt.plot(zp, y_pred1, 'r', label = 'без interсept')\nplt.legend()",
      "metadata": {
        "trusted": true
      },
      "execution_count": null,
      "outputs": []
    },
    {
      "cell_type": "raw",
      "source": "<matplotlib.legend.Legend at 0x1e259fc7d90>\n",
      "metadata": {}
    },
    {
      "cell_type": "markdown",
      "source": "2. Посчитать коэффициент линейной регрессии при заработной плате (zp), используя градиентный спуск (без intercept).",
      "metadata": {}
    },
    {
      "cell_type": "code",
      "source": "import numpy as np\nimport matplotlib.pyplot as plt",
      "metadata": {},
      "execution_count": null,
      "outputs": []
    },
    {
      "cell_type": "code",
      "source": "alpha = 1e-6\nb1 = 0.1\ndef mse_(b1, y=ks, X=zp, n=10):\n    return np.sum((b1 * X - y) ** 2) / n\nfor i in range(1000):\n    fp = (1 / n) * np.sum(2 * (b1 * zp - ks) * zp)\n    b1 -= alpha * fp\n    if i % 100 == 0:\n        print(f'Итерация: {i}, b1 : {b1}, mse: {mse_(b1) }')",
      "metadata": {
        "trusted": true
      },
      "execution_count": null,
      "outputs": []
    },
    {
      "cell_type": "raw",
      "source": "Итерация: 0, b1 : 0.25952808000000005, mse: 493237.7212546963\nИтерация: 100, b1 : 5.54537842245223, mse: 58151.31823171113\nИтерация: 200, b1 : 5.868748638669329, mse: 56522.97550129376\nИтерация: 300, b1 : 5.888531320728348, mse: 56516.88130936019\nИтерация: 400, b1 : 5.8897415574471985, mse: 56516.85850140053\nИтерация: 500, b1 : 5.889815595583751, mse: 56516.858416040064\nИтерация: 600, b1 : 5.889820124983314, mse: 56516.85841572062\nИтерация: 700, b1 : 5.889820402076462, mse: 56516.85841571941\nИтерация: 800, b1 : 5.88982041902807, mse: 56516.8584157194\nИтерация: 900, b1 : 5.889820420065112, mse: 56516.85841571941",
      "metadata": {}
    },
    {
      "cell_type": "code",
      "source": "y_pred2 = b1 * zp\ny_pred2",
      "metadata": {},
      "execution_count": null,
      "outputs": []
    },
    {
      "cell_type": "raw",
      "source": "array([ 206.1437147 ,  265.04191891, 1119.06587982, 1177.96408403,\n        235.59281681,  412.28742941,  318.05030269,  883.47306302,\n        706.77845042,  647.88024621])",
      "metadata": {}
    },
    {
      "cell_type": "code",
      "source": "plt.scatter(zp, ks)\nplt.plot(zp, y_pred2, 'r:', label = 'без интерсепта')\nplt.legend()",
      "metadata": {
        "trusted": true
      },
      "execution_count": null,
      "outputs": []
    },
    {
      "cell_type": "raw",
      "source": "<matplotlib.legend.Legend at 0x1e25a1c75b0>\n",
      "metadata": {}
    },
    {
      "cell_type": "markdown",
      "source": "3. Произвести вычисления как в пункте 2, но с вычислением intercept. Учесть, что изменение коэффициентов должно производиться на каждом шаге одновременно (то есть изменение одного коэффициента не должно влиять на изменение другого во время одной итерации)",
      "metadata": {}
    },
    {
      "cell_type": "code",
      "source": "alpha = 5e-5\n\nb0 = 0.1\nb1 = 0.1\n\ndef mse_(b0, b1, y = ks, X = zp, n = 10):\n    return np.sum((b0 + b1 * X - y) ** 2) / n\nfor i in range(1000000):\n    y_pred3 = b0 + b1 * zp\n    b0 -=alpha * (2 / n) * np.sum((y_pred3 - ks))\n    b1 -=alpha * (2 / n) * np.sum((y_pred3 - ks)*zp)\n    if i % 100000 == 0:\n        print(f\"Итерация: {i}, b1 : {b1}, b0 : {b0}, mse: {mse_(b0,b1)}\")",
      "metadata": {
        "trusted": true
      },
      "execution_count": null,
      "outputs": []
    },
    {
      "cell_type": "raw",
      "source": "Итерация: 0, b1 : 8.07539, b0 : 0.169966, mse: 122360.8044853729\nИтерация: 100000, b1 : 2.8791831426087984, b0 : 409.03758503899854, mse: 6783.640544683958\nИтерация: 200000, b1 : 2.641007845630212, b0 : 441.39641524523927, mse: 6472.375953981324\nИтерация: 300000, b1 : 2.6221587847940984, b0 : 443.9572751113981, mse: 6470.426487736031\nИтерация: 400000, b1 : 2.6206670805791092, b0 : 444.1599401401525, mse: 6470.414278128017\nИтерация: 500000, b1 : 2.6205490279352976, b0 : 444.1759789380671, mse: 6470.414201658608\nИтерация: 600000, b1 : 2.6205396853146192, b0 : 444.177248239628, mse: 6470.414201179677\nИтерация: 700000, b1 : 2.620538945944757, b0 : 444.1773486914554, mse: 6470.414201176677\nИтерация: 800000, b1 : 2.6205388874314473, b0 : 444.17735664115577, mse: 6470.41420117666\nИтерация: 900000, b1 : 2.620538882800784, b0 : 444.1773572702843, mse: 6470.41420117666",
      "metadata": {}
    },
    {
      "cell_type": "code",
      "source": "# 2.620538882402765\n# 444.1773573243596",
      "metadata": {},
      "execution_count": null,
      "outputs": []
    }
  ]
}